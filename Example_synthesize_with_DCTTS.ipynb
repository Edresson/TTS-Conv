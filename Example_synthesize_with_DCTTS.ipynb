{
  "nbformat": 4,
  "nbformat_minor": 0,
  "metadata": {
    "colab": {
      "name": "Example-synthesize-with-DCTTS.ipynb",
      "version": "0.3.2",
      "provenance": [],
      "collapsed_sections": []
    },
    "kernelspec": {
      "name": "python3",
      "display_name": "Python 3"
    },
    "accelerator": "GPU"
  },
  "cells": [
    {
      "metadata": {
        "id": "9hrazsFpbNV6",
        "colab_type": "text"
      },
      "cell_type": "markdown",
      "source": [
        "**Cloning repository**"
      ]
    },
    {
      "metadata": {
        "id": "zSXuXnm4a0WA",
        "colab_type": "code",
        "outputId": "4b2d7010-45d5-4798-a02c-ce38527c4aa8",
        "colab": {
          "base_uri": "https://localhost:8080/",
          "height": 35
        }
      },
      "cell_type": "code",
      "source": [
        "!git clone https://github.com/Edresson/TTS-Conv.git\n",
        "import os\n",
        "os.chdir('TTS-Conv')\n"
      ],
      "execution_count": 1,
      "outputs": [
        {
          "output_type": "stream",
          "text": [
            "fatal: destination path 'TTS-Conv' already exists and is not an empty directory.\n"
          ],
          "name": "stdout"
        }
      ]
    },
    {
      "metadata": {
        "id": "MpYNgqrZcJKn",
        "colab_type": "text"
      },
      "cell_type": "markdown",
      "source": [
        "**Import modules**"
      ]
    },
    {
      "metadata": {
        "id": "4KZA4b_CbMqx",
        "colab_type": "code",
        "colab": {}
      },
      "cell_type": "code",
      "source": [
        "from hyperparams import Hyperparams as hp\n",
        "import numpy as np\n",
        "import tensorflow as tf\n",
        "from train import Graph\n",
        "from utils import *\n",
        "from scipy.io.wavfile import write\n",
        "from tqdm import tqdm\n",
        "from librosa import  display\n",
        "from data_load import text_normalize,load_vocab\n",
        "from IPython.display import Audio"
      ],
      "execution_count": 0,
      "outputs": []
    },
    {
      "metadata": {
        "id": "w6Krn8k1inC_",
        "colab_type": "text"
      },
      "cell_type": "markdown",
      "source": [
        "\n",
        "\n",
        "**Download Weights**\n",
        "\n",
        "\n"
      ]
    },
    {
      "metadata": {
        "id": "PiYHf3lKhi9z",
        "colab_type": "code",
        "colab": {
          "base_uri": "https://localhost:8080/",
          "height": 412
        },
        "outputId": "ffbd68d8-0ef5-4d93-ae17-6e42e571ea94"
      },
      "cell_type": "code",
      "source": [
        "\n",
        "!wget -c -q --show-progress -O ./saver-text.zip https://www.dropbox.com/s/oeafuy4yp7nqj5y/saver-text.zip?dl=0\n",
        "!ls\n",
        "!unzip saver-text.zip\n",
        "  "
      ],
      "execution_count": 3,
      "outputs": [
        {
          "output_type": "stream",
          "text": [
            " data_load.py\t\t\t\t       __pycache__\n",
            " environment.yml\t\t\t       README.md\n",
            "'evaluate-objectives (cópia 1).py'\t       sample-208-10w.wav\n",
            " evaluate-objectives.py\t\t\t       saver-text\n",
            " get_best_checkpoint.py\t\t\t       saver-text.zip\n",
            " harvard_sentences.txt\t\t\t       spectogram-extract.py\n",
            " hyperparams.py\t\t\t\t       synthesize-org.py\n",
            " LICENSE\t\t\t\t       synthesize.py\n",
            " modules.py\t\t\t\t       test_file.py\n",
            " networks.py\t\t\t\t       test_phrase_to_phoneme.py\n",
            " PETRUS\t\t\t\t\t       test_word.py\n",
            " phonetically-balanced-sentences-phoneme.txt   train.py\n",
            " phonetically-balanced-sentences.txt\t       utils.py\n",
            " prepo.py\n",
            "Archive:  saver-text.zip\n",
            "replace saver-text/mel2linear/saver.data-00000-of-00001? [y]es, [n]o, [A]ll, [N]one, [r]ename: A\n",
            "  inflating: saver-text/mel2linear/saver.data-00000-of-00001  \n",
            "  inflating: saver-text/mel2linear/saver.index  \n",
            "  inflating: saver-text/mel2linear/saver.meta  \n",
            "  inflating: saver-text/text2mel/saver.data-00000-of-00001  \n",
            "  inflating: saver-text/text2mel/saver.index  \n",
            "  inflating: saver-text/text2mel/saver.meta  \n"
          ],
          "name": "stdout"
        }
      ]
    },
    {
      "metadata": {
        "id": "dV6cXXlfi72r",
        "colab_type": "text"
      },
      "cell_type": "markdown",
      "source": [
        "**Restore Model**"
      ]
    },
    {
      "metadata": {
        "id": "h6Kvtq0QilgV",
        "colab_type": "code",
        "colab": {
          "base_uri": "https://localhost:8080/",
          "height": 575
        },
        "outputId": "4fb832b1-d637-4203-fff3-11496d3f2e90"
      },
      "cell_type": "code",
      "source": [
        "# Load graph\n",
        "g = Graph(mode=\"synthesize\"); print(\"Graph loaded\")\n",
        "\n",
        "sess = tf.Session()\n",
        "\n",
        "sess.run(tf.global_variables_initializer())\n",
        "\n",
        "# Restore parameters\n",
        "var_list = tf.get_collection(tf.GraphKeys.TRAINABLE_VARIABLES, 'Text2Mel')\n",
        "saver1 = tf.train.Saver(var_list=var_list)\n",
        "saver1.restore(sess, os.path.join('saver-text','text2mel','saver'))\n",
        "print(\"Text2Mel Restored!\")\n",
        "\n",
        "var_list = tf.get_collection(tf.GraphKeys.TRAINABLE_VARIABLES, 'SSRN') + tf.get_collection(tf.GraphKeys.GLOBAL_VARIABLES, 'gs')\n",
        "saver2 = tf.train.Saver(var_list=var_list)\n",
        "saver2.restore(sess, os.path.join('saver-text','mel2linear','saver'))\n",
        "print(\"SSRN Restored!\")"
      ],
      "execution_count": 4,
      "outputs": [
        {
          "output_type": "stream",
          "text": [
            "WARNING:tensorflow:From /usr/local/lib/python3.6/dist-packages/tensorflow/python/framework/op_def_library.py:263: colocate_with (from tensorflow.python.framework.ops) is deprecated and will be removed in a future version.\n",
            "Instructions for updating:\n",
            "Colocations handled automatically by placer.\n",
            "\n",
            "WARNING: The TensorFlow contrib module will not be included in TensorFlow 2.0.\n",
            "For more information, please see:\n",
            "  * https://github.com/tensorflow/community/blob/master/rfcs/20180907-contrib-sunset.md\n",
            "  * https://github.com/tensorflow/addons\n",
            "If you depend on functionality not listed there, please file an issue.\n",
            "\n",
            "WARNING:tensorflow:From /content/TTS-Conv/modules.py:134: conv1d (from tensorflow.python.layers.convolutional) is deprecated and will be removed in a future version.\n",
            "Instructions for updating:\n",
            "Use keras.layers.conv1d instead.\n",
            "WARNING:tensorflow:From /content/TTS-Conv/modules.py:139: dropout (from tensorflow.python.layers.core) is deprecated and will be removed in a future version.\n",
            "Instructions for updating:\n",
            "Use keras.layers.dropout instead.\n",
            "WARNING:tensorflow:From /content/TTS-Conv/networks.py:140: to_float (from tensorflow.python.ops.math_ops) is deprecated and will be removed in a future version.\n",
            "Instructions for updating:\n",
            "Use tf.cast instead.\n",
            "WARNING:tensorflow:From /content/TTS-Conv/modules.py:239: conv2d_transpose (from tensorflow.python.layers.convolutional) is deprecated and will be removed in a future version.\n",
            "Instructions for updating:\n",
            "Use keras.layers.conv2d_transpose instead.\n",
            "Graph loaded\n",
            "WARNING:tensorflow:From /usr/local/lib/python3.6/dist-packages/tensorflow/python/training/saver.py:1266: checkpoint_exists (from tensorflow.python.training.checkpoint_management) is deprecated and will be removed in a future version.\n",
            "Instructions for updating:\n",
            "Use standard file APIs to check for files with this prefix.\n",
            "INFO:tensorflow:Restoring parameters from saver-text/text2mel/saver\n",
            "Text2Mel Restored!\n",
            "INFO:tensorflow:Restoring parameters from saver-text/mel2linear/saver\n",
            "SSRN Restored!\n"
          ],
          "name": "stdout"
        }
      ]
    },
    {
      "metadata": {
        "id": "I6CqH4OhkeEk",
        "colab_type": "text"
      },
      "cell_type": "markdown",
      "source": [
        "**Synthesize**\n"
      ]
    },
    {
      "metadata": {
        "id": "T3hRL1SfclS5",
        "colab_type": "code",
        "outputId": "3f71045a-de70-48b5-8878-eddc6d39c7a6",
        "colab": {
          "base_uri": "https://localhost:8080/",
          "height": 311
        }
      },
      "cell_type": "code",
      "source": [
        "\n",
        "import IPython\n",
        "frase = input(\"Digite o frase: \")\n",
        "print('input text: ',frase)\n",
        "frase = '1 '+frase\n",
        "#normalize remove inavalid characters\n",
        "frase = text_normalize(frase.split(\" \", 1)[-1]).strip() + \"E\" # text normalization, E: EOS\n",
        "\n",
        "print('normalized text:',frase)\n",
        "      \n",
        "char2idx, idx2char = load_vocab()\n",
        "      \n",
        "#convert characters to numbers\n",
        "text = np.zeros((1, hp.max_N), np.int32)#hp.max_N = 128, is the max number for characters \n",
        "text[0, :len(frase)] = [char2idx[char] for char in frase]\n",
        "\n",
        "print('converted text:',text)\n",
        "\n",
        "L = text\n",
        "# Feed Forward\n",
        "## mel\n",
        "Y = np.zeros((len(L), hp.max_T, hp.n_mels), np.float32)\n",
        "prev_max_attentions = np.zeros((len(L),), np.int32)\n",
        "for j in tqdm(range(hp.max_T)):\n",
        "    _gs, _Y, _max_attentions, _alignments = sess.run([g.global_step, g.Y, g.max_attentions, g.alignments], {g.L: L,g.mels: Y, g.prev_max_attentions: prev_max_attentions})\n",
        "    Y[:, j, :] = _Y[:, j, :]\n",
        "    prev_max_attentions = _max_attentions[:, j]\n",
        "\n",
        "    \n",
        "\n",
        "# Get magnitude\n",
        "Z = sess.run(g.Z, {g.Y: Y})\n",
        "\n",
        "# Generate wav files\n",
        "for i, mag in enumerate(Z):\n",
        "    print(\"Working on file\", i+1)\n",
        "    wav = spectrogram2wav(mag)\n",
        "    #save for frase.wav\n",
        "    write(\"frase.wav\", hp.sr, wav) \n",
        "    #play\n",
        "    IPython.display.display(IPython.display.Audio( wav, rate=hp.sr))\n"
      ],
      "execution_count": 18,
      "outputs": [
        {
          "output_type": "stream",
          "text": [
            "Digite o frase: Oii\n"
          ],
          "name": "stdout"
        },
        {
          "output_type": "stream",
          "text": [
            "  1%|▏         | 3/210 [00:00<00:07, 27.83it/s]"
          ],
          "name": "stderr"
        },
        {
          "output_type": "stream",
          "text": [
            "input text:  Oii\n",
            "Oii\n",
            "normalized text: oiiE\n",
            "converted text: [[17 11 11  1  0  0  0  0  0  0  0  0  0  0  0  0  0  0  0  0  0  0  0  0\n",
            "   0  0  0  0  0  0  0  0  0  0  0  0  0  0  0  0  0  0  0  0  0  0  0  0\n",
            "   0  0  0  0  0  0  0  0  0  0  0  0  0  0  0  0  0  0  0  0  0  0  0  0\n",
            "   0  0  0  0  0  0  0  0  0  0  0  0  0  0  0  0  0  0  0  0  0  0  0  0\n",
            "   0  0  0  0  0  0  0  0  0  0  0  0  0  0  0  0  0  0  0  0  0  0  0  0\n",
            "   0  0  0  0  0  0  0  0  0  0  0  0  0  0  0  0  0  0  0  0  0  0  0  0\n",
            "   0  0  0  0  0  0  0  0  0  0  0  0  0  0  0  0  0  0  0  0  0  0  0  0\n",
            "   0  0  0  0  0  0  0  0  0  0  0  0]]\n"
          ],
          "name": "stdout"
        },
        {
          "output_type": "stream",
          "text": [
            "100%|██████████| 210/210 [00:05<00:00, 37.34it/s]\n"
          ],
          "name": "stderr"
        },
        {
          "output_type": "stream",
          "text": [
            "Working on file 1\n"
          ],
          "name": "stdout"
        },
        {
          "output_type": "display_data",
          "data": {
            "text/html": [
              "\n",
              "                <audio controls=\"controls\" >\n",
              "                    <source src=\"data:audio/wav;base64,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\" type=\"audio/wav\" />\n",
              "                    Your browser does not support the audio element.\n",
              "                </audio>\n",
              "              "
            ],
            "text/plain": [
              "<IPython.lib.display.Audio object>"
            ]
          },
          "metadata": {
            "tags": []
          }
        }
      ]
    },
    {
      "metadata": {
        "id": "Tld9v4CBkfmi",
        "colab_type": "code",
        "colab": {
          "base_uri": "https://localhost:8080/",
          "height": 268
        },
        "outputId": "4e12d4f3-009f-4e5e-964e-0853563cd817"
      },
      "cell_type": "code",
      "source": [
        "!ls"
      ],
      "execution_count": 8,
      "outputs": [
        {
          "output_type": "stream",
          "text": [
            " data_load.py\t\t\t\t       prepo.py\n",
            " environment.yml\t\t\t       __pycache__\n",
            "'evaluate-objectives (cópia 1).py'\t       README.md\n",
            " evaluate-objectives.py\t\t\t       sample-208-10w.wav\n",
            " frase.wav\t\t\t\t       saver-text\n",
            " get_best_checkpoint.py\t\t\t       saver-text.zip\n",
            " harvard_sentences.txt\t\t\t       spectogram-extract.py\n",
            " hyperparams.py\t\t\t\t       synthesize-org.py\n",
            " LICENSE\t\t\t\t       synthesize.py\n",
            " modules.py\t\t\t\t       test_file.py\n",
            " networks.py\t\t\t\t       test_phrase_to_phoneme.py\n",
            " PETRUS\t\t\t\t\t       test_word.py\n",
            " phonetically-balanced-sentences-phoneme.txt   train.py\n",
            " phonetically-balanced-sentences.txt\t       utils.py\n"
          ],
          "name": "stdout"
        }
      ]
    }
  ]
}